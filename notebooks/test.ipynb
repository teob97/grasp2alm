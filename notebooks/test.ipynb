{
 "cells": [
  {
   "cell_type": "code",
   "execution_count": null,
   "metadata": {},
   "outputs": [],
   "source": [
    "import grasp2alm as g2a\n",
    "import numpy as np\n",
    "import healpy as hp\n",
    "import math\n",
    "import os\n",
    "import matplotlib.pyplot as plt\n",
    "from math import factorial"
   ]
  },
  {
   "cell_type": "code",
   "execution_count": null,
   "metadata": {},
   "outputs": [],
   "source": [
    "pol = True\n",
    "nside: int = 1024\n",
    "lmax: int = 2*nside\n",
    "beam_fwhm_deg = np.rad2deg(hp.nside2resol(nside))*100\n",
    "beam_fwhm = np.deg2rad(beam_fwhm_deg)\n",
    "beam_sigma = beam_fwhm/(2.0*np.sqrt(2.0*np.log(2.0)))\n",
    "amplitude = 1/(2*np.pi*beam_sigma*beam_sigma)\n",
    "bias = 0.0"
   ]
  },
  {
   "cell_type": "code",
   "execution_count": null,
   "metadata": {},
   "outputs": [],
   "source": [
    "vini: float = -beam_fwhm_deg*3\n",
    "vnum = 40001\n",
    "vinc: float = abs(vini)*2/vnum\n",
    "c = 0\n",
    "ncut = 40\n",
    "header_1: str = \"Field data in cuts\"\n",
    "header_2 = f\"{vini} {vinc} {vnum} {c} 3 1 2\"\n",
    "\n",
    "theta = np.linspace(vini, -vini, vnum)\n",
    "theta = np.deg2rad(theta)\n",
    "\n",
    "phi = np.linspace(0, 180-180/ncut, ncut)"
   ]
  },
  {
   "cell_type": "code",
   "execution_count": null,
   "metadata": {},
   "outputs": [],
   "source": [
    "def my_gauss(amplitude, sigma, theta, bias = 0.0):\n",
    "    return amplitude * np.exp(- theta**2 / (2*sigma**2)) + bias"
   ]
  },
  {
   "cell_type": "code",
   "execution_count": null,
   "metadata": {},
   "outputs": [],
   "source": [
    "with open('prova.cut', 'w') as file:\n",
    "    for n in range(ncut):\n",
    "        file.write(header_1)\n",
    "        file.write('\\n')\n",
    "        file.write(header_2)\n",
    "        file.write('\\n')\n",
    "        for i in range(vnum):\n",
    "            co_i = np.emath.sqrt(my_gauss(amplitude, beam_sigma, theta[i], bias))\n",
    "            cx_i = 0.0\n",
    "            file.write(f\"{np.real(co_i)} {np.imag(co_i)} {np.real(cx_i)} {np.imag(cx_i)}\\n\")"
   ]
  },
  {
   "cell_type": "code",
   "execution_count": null,
   "metadata": {},
   "outputs": [],
   "source": [
    "if os.path.exists('prova.cut'):\n",
    "    cut = g2a.BeamCut('prova.cut')\n",
    "    os.remove('prova.cut')"
   ]
  },
  {
   "cell_type": "code",
   "execution_count": null,
   "metadata": {},
   "outputs": [],
   "source": [
    "outOftheta_val = hp.UNSEEN\n",
    "cpolar = cut.to_polar(copol_axis=\"x\")"
   ]
  },
  {
   "cell_type": "code",
   "execution_count": null,
   "metadata": {},
   "outputs": [],
   "source": [
    "cmap = cpolar.to_map(nside, outOftheta_val=outOftheta_val, interp_method='linear')"
   ]
  },
  {
   "cell_type": "code",
   "execution_count": null,
   "metadata": {},
   "outputs": [],
   "source": [
    "hp.mollview(cmap.map[0], rot=[0,90])"
   ]
  },
  {
   "cell_type": "code",
   "execution_count": null,
   "metadata": {},
   "outputs": [],
   "source": [
    "#calm = cmap.to_alm_lsq(lmax=lmax, mmax=2)[0]\n",
    "calm = cmap.to_alm(lmax=lmax, mmax=2)\n",
    "W_I = np.array([calm[0,i]*np.sqrt((4*np.pi)/(2*i+1)) for i in range(lmax)])\n"
   ]
  },
  {
   "cell_type": "markdown",
   "metadata": {},
   "source": [
    "# Compare against theoric window function"
   ]
  },
  {
   "cell_type": "code",
   "execution_count": null,
   "metadata": {},
   "outputs": [],
   "source": [
    "from scipy.special import ive\n",
    "\n",
    "def ideal_baeam_window(amplitude, sigma, l):\n",
    "    alpha = 1/sigma**2\n",
    "    k = np.sqrt(np.pi/(2*alpha))\n",
    "    return 4*np.pi*amplitude*k*ive(l+0.5, alpha)"
   ]
  },
  {
   "cell_type": "code",
   "execution_count": null,
   "metadata": {},
   "outputs": [],
   "source": [
    "ideal_window = [ideal_baeam_window(amplitude, beam_sigma, i) for i in np.array(range(lmax))]"
   ]
  },
  {
   "cell_type": "code",
   "execution_count": null,
   "metadata": {},
   "outputs": [],
   "source": [
    "fig, axs = plt.subplots(1,2, figsize=(14,5))\n",
    "axs[0].plot(ideal_window, label='theoric window function')\n",
    "axs[0].plot(abs(W_I), label='from grasp2alm')\n",
    "axs[0].set_xscale(\"log\")\n",
    "axs[0].legend()\n",
    "\n",
    "axs[1].plot(ideal_window-abs(W_I))\n",
    "axs[1].set_xscale('log')"
   ]
  },
  {
   "cell_type": "code",
   "execution_count": null,
   "metadata": {},
   "outputs": [],
   "source": [
    "def ideal_baeam_window_2(amplitude, sigma, l):\n",
    "    N2_l = 2*factorial(l-2)/factorial(l+2)\n",
    "    alpha = 1/sigma**2\n",
    "    c = np.sqrt(np.pi/(2*alpha))\n",
    "    k1 = 2*(-1)**l*((l+2)*(l-1)+6*alpha)*np.exp(-2*alpha)\n",
    "    k2 = ((l**2-4*alpha)*(l-1)**2 + 12*alpha)*c*ive(n+0.5, alpha)\n",
    "    k3 = 4*alpha*(l**2+l+1-3*alpha)*c*ive(n-0.5,alpha)\n",
    "    return 2*np.pi*amplitude*N2_l*(k1+k2+k3)"
   ]
  },
  {
   "cell_type": "markdown",
   "metadata": {},
   "source": [
    "# Compare against healpy blm_gauss"
   ]
  },
  {
   "cell_type": "code",
   "execution_count": null,
   "metadata": {},
   "outputs": [],
   "source": [
    "def my_blm_gauss(fwhm:float, lmax:int, pol:bool=False):\n",
    "    mmax = 2 if pol else 0\n",
    "    ncomp = 3 if pol else 1\n",
    "    nval = hp.Alm.getsize(lmax, mmax)\n",
    "\n",
    "    if mmax > lmax:\n",
    "        raise ValueError(\"lmax value too small\")\n",
    "\n",
    "    blm = np.zeros((ncomp, nval), dtype=np.complex128)\n",
    "    sigmasq = fwhm * fwhm / (8 * np.log(2.0))\n",
    "\n",
    "    for l in range(0, lmax + 1):\n",
    "        blm[0, hp.Alm.getidx(lmax, l, 0)] = np.sqrt((2 * l + 1) / (4.0 * np.pi)) * np.exp(\n",
    "            -0.5 * sigmasq * l * (l+1)\n",
    "        )\n",
    "\n",
    "    if pol:\n",
    "        for l in range(2, lmax + 1):\n",
    "            blm[1, hp.Alm.getidx(lmax, l, 2)] = np.sqrt(\n",
    "                (2 * l + 1) / (16 * np.pi)\n",
    "            ) * np.exp(-0.5 * sigmasq * l * (l+1))\n",
    "        blm[2] = 1j * blm[1]\n",
    "\n",
    "    return blm"
   ]
  },
  {
   "cell_type": "code",
   "execution_count": null,
   "metadata": {},
   "outputs": [],
   "source": [
    "blm=hp.blm_gauss(beam_fwhm, lmax=lmax, pol=pol)\n",
    "blm=my_blm_gauss(beam_fwhm, lmax=lmax, pol=pol)"
   ]
  },
  {
   "cell_type": "code",
   "execution_count": null,
   "metadata": {},
   "outputs": [],
   "source": [
    "index_0 = hp.Alm.getidx(lmax, np.arange(lmax), 0)\n",
    "index_2 = hp.Alm.getidx(lmax, np.arange(lmax), 2)\n",
    "indexes = [index_0, index_2, index_2]"
   ]
  },
  {
   "cell_type": "code",
   "execution_count": null,
   "metadata": {},
   "outputs": [],
   "source": [
    "alm_I_0_yosuke = calm[0][index_0]\n",
    "alm_Q_2_yosuke = calm[1][index_2]\n",
    "alm_U_2_yosuke = calm[2][index_2]\n",
    "alm_yosuke = np.array([alm_I_0_yosuke, alm_Q_2_yosuke, alm_U_2_yosuke])\n",
    "\n",
    "alm_I_0_hp = blm[0][index_0]\n",
    "alm_Q_2_hp = blm[1][index_2]\n",
    "alm_U_2_hp = blm[2][index_2]\n",
    "alm_hp = np.array([alm_I_0_hp, alm_Q_2_hp, alm_U_2_hp])"
   ]
  },
  {
   "cell_type": "code",
   "execution_count": null,
   "metadata": {},
   "outputs": [],
   "source": [
    "fig, axs = plt.subplots(3,2, figsize=(14,8))\n",
    "for indx, stokes in enumerate('IQU'):\n",
    "    axs[indx,0].plot(abs(alm_yosuke[indx]), label='from grasp2alm')\n",
    "    axs[indx,0].plot(abs(alm_hp[indx]), label='from healpy')\n",
    "    axs[indx,0].set_title(stokes)\n",
    "    axs[indx,0].legend()\n",
    "\n",
    "    axs[0,1].set_title('abs difference')\n",
    "    axs[indx,1].plot(abs(alm_yosuke[indx])-abs(alm_hp[indx]))\n",
    "\n",
    "    axs[indx,0].set_xscale('log')\n",
    "    axs[indx,1].set_xscale('log')"
   ]
  },
  {
   "cell_type": "code",
   "execution_count": null,
   "metadata": {},
   "outputs": [],
   "source": [
    "np.allclose(alm_yosuke[0], alm_hp[0], atol=1e-3)"
   ]
  },
  {
   "cell_type": "code",
   "execution_count": null,
   "metadata": {},
   "outputs": [],
   "source": [
    "np.allclose(alm_yosuke[1], alm_hp[1], atol=1e-3)"
   ]
  },
  {
   "cell_type": "code",
   "execution_count": null,
   "metadata": {},
   "outputs": [],
   "source": [
    "np.allclose(alm_yosuke[2], alm_hp[2], atol=1e-3)"
   ]
  },
  {
   "cell_type": "markdown",
   "metadata": {},
   "source": [
    "# Check reconstructed maps"
   ]
  },
  {
   "cell_type": "code",
   "execution_count": null,
   "metadata": {},
   "outputs": [],
   "source": [
    "m_g2a = hp.alm2map(calm, lmax=lmax, mmax=2 if pol else 0, nside=nside, pol=pol)\n",
    "m_hp = hp.alm2map(blm, lmax=lmax, mmax=2 if pol else 0, nside=nside, pol=pol)"
   ]
  },
  {
   "cell_type": "code",
   "execution_count": null,
   "metadata": {},
   "outputs": [],
   "source": [
    "for each_m, label in zip(m_g2a, \"IQU\"):\n",
    "    hp.mollview(each_m, rot=[0, 90], title=f\"Beam map, {label}\")"
   ]
  },
  {
   "cell_type": "code",
   "execution_count": null,
   "metadata": {},
   "outputs": [],
   "source": [
    "for each_m, label in zip(m_hp, \"IQU\"):\n",
    "    hp.mollview(each_m, rot=[0, 90], title=f\"Beam map, {label}\")"
   ]
  },
  {
   "cell_type": "code",
   "execution_count": null,
   "metadata": {},
   "outputs": [],
   "source": []
  },
  {
   "cell_type": "code",
   "execution_count": null,
   "metadata": {},
   "outputs": [],
   "source": []
  }
 ],
 "metadata": {
  "kernelspec": {
   "display_name": ".venv",
   "language": "python",
   "name": "python3"
  },
  "language_info": {
   "codemirror_mode": {
    "name": "ipython",
    "version": 3
   },
   "file_extension": ".py",
   "mimetype": "text/x-python",
   "name": "python",
   "nbconvert_exporter": "python",
   "pygments_lexer": "ipython3",
   "version": "3.11.9"
  }
 },
 "nbformat": 4,
 "nbformat_minor": 2
}
